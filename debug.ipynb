{
 "cells": [
  {
   "cell_type": "code",
   "execution_count": 1,
   "outputs": [
    {
     "ename": "ModuleNotFoundError",
     "evalue": "No module named 'backbones'",
     "output_type": "error",
     "traceback": [
      "\u001B[1;31m---------------------------------------------------------------------------\u001B[0m",
      "\u001B[1;31mModuleNotFoundError\u001B[0m                       Traceback (most recent call last)",
      "\u001B[1;32m~\\AppData\\Local\\Temp\\ipykernel_91528\\4131318434.py\u001B[0m in \u001B[0;36m<module>\u001B[1;34m\u001B[0m\n\u001B[0;32m      7\u001B[0m \u001B[1;32mimport\u001B[0m \u001B[0mmatplotlib\u001B[0m\u001B[1;33m.\u001B[0m\u001B[0mpyplot\u001B[0m \u001B[1;32mas\u001B[0m \u001B[0mplt\u001B[0m\u001B[1;33m\u001B[0m\u001B[1;33m\u001B[0m\u001B[0m\n\u001B[0;32m      8\u001B[0m \u001B[1;33m\u001B[0m\u001B[0m\n\u001B[1;32m----> 9\u001B[1;33m \u001B[1;32mfrom\u001B[0m \u001B[0mmodels\u001B[0m \u001B[1;32mimport\u001B[0m \u001B[0mVitSeg\u001B[0m\u001B[1;33m\u001B[0m\u001B[1;33m\u001B[0m\u001B[0m\n\u001B[0m\u001B[0;32m     10\u001B[0m \u001B[1;33m\u001B[0m\u001B[0m\n\u001B[0;32m     11\u001B[0m \u001B[1;32mfrom\u001B[0m \u001B[0mvisualizer\u001B[0m \u001B[1;32mimport\u001B[0m \u001B[0mshow_result\u001B[0m\u001B[1;33m,\u001B[0m \u001B[0msave_result\u001B[0m\u001B[1;33m\u001B[0m\u001B[1;33m\u001B[0m\u001B[0m\n",
      "\u001B[1;32m~\\PycharmProjects\\ViTSeg\\models.py\u001B[0m in \u001B[0;36m<module>\u001B[1;34m\u001B[0m\n\u001B[0;32m      7\u001B[0m \u001B[1;32mfrom\u001B[0m \u001B[0mencoder\u001B[0m \u001B[1;32mimport\u001B[0m \u001B[0mSegFormerEncoder\u001B[0m\u001B[1;33m\u001B[0m\u001B[1;33m\u001B[0m\u001B[0m\n\u001B[0;32m      8\u001B[0m \u001B[1;33m\u001B[0m\u001B[0m\n\u001B[1;32m----> 9\u001B[1;33m \u001B[1;32mfrom\u001B[0m \u001B[0msegformer\u001B[0m\u001B[1;33m.\u001B[0m\u001B[0msegformer\u001B[0m \u001B[1;32mimport\u001B[0m \u001B[0mmodel\u001B[0m \u001B[1;32mas\u001B[0m \u001B[0mAiden_Seg\u001B[0m\u001B[1;33m\u001B[0m\u001B[1;33m\u001B[0m\u001B[0m\n\u001B[0m\u001B[0;32m     10\u001B[0m \u001B[1;33m\u001B[0m\u001B[0m\n\u001B[0;32m     11\u001B[0m \u001B[1;32mclass\u001B[0m \u001B[0mVitSeg\u001B[0m\u001B[1;33m(\u001B[0m\u001B[0mnn\u001B[0m\u001B[1;33m.\u001B[0m\u001B[0mModule\u001B[0m\u001B[1;33m)\u001B[0m\u001B[1;33m:\u001B[0m\u001B[1;33m\u001B[0m\u001B[1;33m\u001B[0m\u001B[0m\n",
      "\u001B[1;32m~\\PycharmProjects\\ViTSeg\\segformer\\segformer\\model.py\u001B[0m in \u001B[0;36m<module>\u001B[1;34m\u001B[0m\n\u001B[0;32m      3\u001B[0m \u001B[1;32mfrom\u001B[0m \u001B[0mtorch\u001B[0m\u001B[1;33m.\u001B[0m\u001B[0mnn\u001B[0m\u001B[1;33m.\u001B[0m\u001B[0mfunctional\u001B[0m \u001B[1;32mimport\u001B[0m \u001B[0minterpolate\u001B[0m\u001B[1;33m\u001B[0m\u001B[1;33m\u001B[0m\u001B[0m\n\u001B[0;32m      4\u001B[0m \u001B[1;33m\u001B[0m\u001B[0m\n\u001B[1;32m----> 5\u001B[1;33m \u001B[1;32mfrom\u001B[0m \u001B[0mbackbones\u001B[0m \u001B[1;32mimport\u001B[0m \u001B[0mmit_b0\u001B[0m\u001B[1;33m,\u001B[0m \u001B[0mmit_b1\u001B[0m\u001B[1;33m,\u001B[0m \u001B[0mmit_b2\u001B[0m\u001B[1;33m,\u001B[0m \u001B[0mmit_b3\u001B[0m\u001B[1;33m,\u001B[0m \u001B[0mmit_b4\u001B[0m\u001B[1;33m,\u001B[0m \u001B[0mmit_b5\u001B[0m\u001B[1;33m,\u001B[0m \u001B[0mMixTransformer\u001B[0m\u001B[1;33m\u001B[0m\u001B[1;33m\u001B[0m\u001B[0m\n\u001B[0m\u001B[0;32m      6\u001B[0m \u001B[1;32mfrom\u001B[0m \u001B[0mheads\u001B[0m \u001B[1;32mimport\u001B[0m \u001B[0mSegFormerHead\u001B[0m\u001B[1;33m\u001B[0m\u001B[1;33m\u001B[0m\u001B[0m\n\u001B[0;32m      7\u001B[0m \u001B[1;33m\u001B[0m\u001B[0m\n",
      "\u001B[1;31mModuleNotFoundError\u001B[0m: No module named 'backbones'"
     ]
    }
   ],
   "source": [
    "import torch\n",
    "import torchvision.transforms as transforms\n",
    "import numpy as np\n",
    "from PIL import Image\n",
    "import os\n",
    "import requests\n",
    "import matplotlib.pyplot as plt\n",
    "\n",
    "from models import VitSeg\n",
    "\n",
    "from visualizer import show_result, save_result\n",
    "\n",
    "\n",
    "device = torch.device(\"cpu\")\n",
    "\n",
    "if torch.cuda.is_available():\n",
    "    device = torch.device(\"cuda:0\")\n",
    "    torch.cuda.set_device(device)"
   ],
   "metadata": {
    "collapsed": false
   }
  },
  {
   "cell_type": "markdown",
   "source": [
    "dummy_result = torch.randint(23, (1, 512, 683))\n",
    "show_result(img='C:/Users/Alex/Documents/ViT-Adapter-Mod/segmentation/data/ade/ADEChallengeData2016/images/training/ADE_train_00000001.jpg',\n",
    "            result=dummy_result,\n",
    "            class_num=23,\n",
    "            out_file=\"C:/Users/Alex/PycharmProjects/ViTSeg/hi.jpg\")"
   ],
   "metadata": {
    "collapsed": false
   }
  },
  {
   "cell_type": "code",
   "execution_count": null,
   "metadata": {
    "collapsed": true
   },
   "outputs": [],
   "source": [
    "\n",
    "\n",
    "img = Image.open('./ADE_train_00000001.jpg')\n",
    "\n",
    "# img = Image.open('./GF2_PMS1__L1A0000564539-MSS1.tiff')\n",
    "img = transforms.CenterCrop(512)(img)  # crop to get the square\n",
    "img = transforms.ToTensor()(img)  # turn it into a tensor\n",
    "img = torch.FloatTensor(img)[None, :]  # make it a batch\n",
    "\n",
    "v = VitSeg(\n",
    "    image_size=512,\n",
    "    patch_size=32,\n",
    "    num_classes=23,\n",
    "    hidden_size=1024,\n",
    "    num_layers=6,\n",
    "    feedforward_size=8,\n",
    "    num_heads=16,\n",
    "    mlp_dim=2048,\n",
    "    dropout=0.1,\n",
    ")\n",
    "# img = Image.open('C:/Users/Alex/Documents/ViT-Adapter-Mod/segmentation/data/ade/ADEChallengeData2016/images/training/ADE_train_00000001.jpg')\n",
    "# img = transforms.CenterCrop()(img, 512)  # crop to get the square\n",
    "# img = transforms.ToTensor()(img)  # turn it into a tensor\n",
    "# img = torch.FloatTensor(img)[None, :]  # make it a batch\n",
    "\n",
    "#TODO: deal with sliding window, for images that are not square. for now just crop the square out of it\n",
    "\n",
    "preds = v(img)\n",
    "\n",
    "preds.shape"
   ]
  },
  {
   "cell_type": "code",
   "execution_count": null,
   "outputs": [],
   "source": [],
   "metadata": {
    "collapsed": false
   }
  }
 ],
 "metadata": {
  "kernelspec": {
   "display_name": "Python 3",
   "language": "python",
   "name": "python3"
  },
  "language_info": {
   "codemirror_mode": {
    "name": "ipython",
    "version": 2
   },
   "file_extension": ".py",
   "mimetype": "text/x-python",
   "name": "python",
   "nbconvert_exporter": "python",
   "pygments_lexer": "ipython2",
   "version": "2.7.6"
  }
 },
 "nbformat": 4,
 "nbformat_minor": 0
}
